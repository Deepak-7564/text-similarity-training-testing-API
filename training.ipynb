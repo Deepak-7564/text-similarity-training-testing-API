{
  "cells": [
    {
      "cell_type": "code",
      "execution_count": 53,
      "metadata": {
        "id": "zfWYjdCav3TE"
      },
      "outputs": [],
      "source": [
        "# Required libraries \n",
        "import pandas as pd\n",
        "import numpy as np\n",
        "import tensorflow as tf\n",
        "import tensorflow_hub as hub\n",
        "\n",
        "import warnings\n",
        "warnings.filterwarnings('ignore')\n",
        "\n"
      ]
    },
    {
      "cell_type": "code",
      "execution_count": 54,
      "metadata": {},
      "outputs": [
        {
          "data": {
            "text/html": [
              "<div>\n",
              "<style scoped>\n",
              "    .dataframe tbody tr th:only-of-type {\n",
              "        vertical-align: middle;\n",
              "    }\n",
              "\n",
              "    .dataframe tbody tr th {\n",
              "        vertical-align: top;\n",
              "    }\n",
              "\n",
              "    .dataframe thead th {\n",
              "        text-align: right;\n",
              "    }\n",
              "</style>\n",
              "<table border=\"1\" class=\"dataframe\">\n",
              "  <thead>\n",
              "    <tr style=\"text-align: right;\">\n",
              "      <th></th>\n",
              "      <th>text1</th>\n",
              "      <th>text2</th>\n",
              "      <th>similarity_score</th>\n",
              "    </tr>\n",
              "  </thead>\n",
              "  <tbody>\n",
              "    <tr>\n",
              "      <th>0</th>\n",
              "      <td>broadband challenges tv viewing the number of ...</td>\n",
              "      <td>gardener wins double in glasgow britain s jaso...</td>\n",
              "      <td>0.185374</td>\n",
              "    </tr>\n",
              "    <tr>\n",
              "      <th>1</th>\n",
              "      <td>rap boss arrested over drug find rap mogul mar...</td>\n",
              "      <td>amnesty chief laments war failure the lack of ...</td>\n",
              "      <td>0.066526</td>\n",
              "    </tr>\n",
              "    <tr>\n",
              "      <th>2</th>\n",
              "      <td>player burn-out worries robinson england coach...</td>\n",
              "      <td>hanks greeted at wintry premiere hollywood sta...</td>\n",
              "      <td>0.086851</td>\n",
              "    </tr>\n",
              "    <tr>\n",
              "      <th>3</th>\n",
              "      <td>hearts of oak 3-2 cotonsport hearts of oak set...</td>\n",
              "      <td>redford s vision of sundance despite sporting ...</td>\n",
              "      <td>0.123677</td>\n",
              "    </tr>\n",
              "    <tr>\n",
              "      <th>4</th>\n",
              "      <td>sir paul rocks super bowl crowds sir paul mcca...</td>\n",
              "      <td>mauresmo opens with victory in la amelie maure...</td>\n",
              "      <td>0.102747</td>\n",
              "    </tr>\n",
              "  </tbody>\n",
              "</table>\n",
              "</div>"
            ],
            "text/plain": [
              "                                               text1  \\\n",
              "0  broadband challenges tv viewing the number of ...   \n",
              "1  rap boss arrested over drug find rap mogul mar...   \n",
              "2  player burn-out worries robinson england coach...   \n",
              "3  hearts of oak 3-2 cotonsport hearts of oak set...   \n",
              "4  sir paul rocks super bowl crowds sir paul mcca...   \n",
              "\n",
              "                                               text2  similarity_score  \n",
              "0  gardener wins double in glasgow britain s jaso...          0.185374  \n",
              "1  amnesty chief laments war failure the lack of ...          0.066526  \n",
              "2  hanks greeted at wintry premiere hollywood sta...          0.086851  \n",
              "3  redford s vision of sundance despite sporting ...          0.123677  \n",
              "4  mauresmo opens with victory in la amelie maure...          0.102747  "
            ]
          },
          "execution_count": 54,
          "metadata": {},
          "output_type": "execute_result"
        }
      ],
      "source": [
        "#data importing\n",
        "df = pd.read_csv(\"input_data.csv\")\n",
        "df.head()"
      ]
    },
    {
      "cell_type": "code",
      "execution_count": 55,
      "metadata": {},
      "outputs": [
        {
          "data": {
            "text/plain": [
              "(3000, 3)"
            ]
          },
          "execution_count": 55,
          "metadata": {},
          "output_type": "execute_result"
        }
      ],
      "source": [
        "# shape of dataframe\n",
        "df.shape"
      ]
    },
    {
      "cell_type": "code",
      "execution_count": 56,
      "metadata": {
        "id": "jI0DUYoCv7Jz"
      },
      "outputs": [],
      "source": [
        "# Encoding text to tensors\n",
        "\n",
        "embed = hub.load(\"https://tfhub.dev/google/universal-sentence-encoder/4\")\n",
        "\n",
        "\n",
        "def get_embeddings(sentences):\n",
        "    return embed(sentences)\n",
        "\n",
        "embeddings1 = get_embeddings(df['text1'].tolist())\n",
        "embeddings2 = get_embeddings(df['text2'].tolist())\n"
      ]
    },
    {
      "cell_type": "code",
      "execution_count": 57,
      "metadata": {},
      "outputs": [
        {
          "data": {
            "text/plain": [
              "TensorShape([3000, 512])"
            ]
          },
          "execution_count": 57,
          "metadata": {},
          "output_type": "execute_result"
        }
      ],
      "source": [
        "# size of tensors\n",
        "embeddings1.shape"
      ]
    },
    {
      "cell_type": "code",
      "execution_count": 58,
      "metadata": {
        "colab": {
          "base_uri": "https://localhost:8080/"
        },
        "id": "zpAXD6yRv-Cx",
        "outputId": "d4a500f0-65f7-4837-f5d8-612f4e81879d"
      },
      "outputs": [
        {
          "name": "stdout",
          "output_type": "stream",
          "text": [
            "Model: \"model_6\"\n",
            "__________________________________________________________________________________________________\n",
            " Layer (type)                Output Shape                 Param #   Connected to                  \n",
            "==================================================================================================\n",
            " input_13 (InputLayer)       [(None, 512)]                0         []                            \n",
            "                                                                                                  \n",
            " input_14 (InputLayer)       [(None, 512)]                0         []                            \n",
            "                                                                                                  \n",
            " subtract_6 (Subtract)       (None, 512)                  0         ['input_13[0][0]',            \n",
            "                                                                     'input_14[0][0]']            \n",
            "                                                                                                  \n",
            " lambda_6 (Lambda)           (None, 512)                  0         ['subtract_6[0][0]']          \n",
            "                                                                                                  \n",
            " concatenate_6 (Concatenate  (None, 1024)                 0         ['subtract_6[0][0]',          \n",
            " )                                                                   'lambda_6[0][0]']            \n",
            "                                                                                                  \n",
            " dense_18 (Dense)            (None, 256)                  262400    ['concatenate_6[0][0]']       \n",
            "                                                                                                  \n",
            " dense_19 (Dense)            (None, 128)                  32896     ['dense_18[0][0]']            \n",
            "                                                                                                  \n",
            " dense_20 (Dense)            (None, 1)                    129       ['dense_19[0][0]']            \n",
            "                                                                                                  \n",
            "==================================================================================================\n",
            "Total params: 295425 (1.13 MB)\n",
            "Trainable params: 295425 (1.13 MB)\n",
            "Non-trainable params: 0 (0.00 Byte)\n",
            "__________________________________________________________________________________________________\n"
          ]
        }
      ],
      "source": [
        "# Model architecture\n",
        "\n",
        "input_1 = tf.keras.Input(shape=(512,), dtype='float32')\n",
        "input_2 = tf.keras.Input(shape=(512,), dtype='float32')\n",
        "\n",
        "diff = tf.keras.layers.Subtract()([input_1, input_2])\n",
        "abs_diff = tf.keras.layers.Lambda(lambda x: tf.abs(x))(diff)\n",
        "\n",
        "concatenated = tf.keras.layers.Concatenate()([diff, abs_diff])\n",
        "\n",
        "\n",
        "dense1 = tf.keras.layers.Dense(256, activation='relu')(concatenated)\n",
        "dense2 = tf.keras.layers.Dense(128, activation='relu')(dense1)\n",
        "output = tf.keras.layers.Dense(1, activation='sigmoid')(dense2)\n",
        "\n",
        "model = tf.keras.Model(inputs=[input_1, input_2], outputs=output)\n",
        "\n",
        "model.compile(optimizer='adam', loss='mean_squared_error', metrics=['mae'])\n",
        "\n",
        "model.summary()\n"
      ]
    },
    {
      "cell_type": "code",
      "execution_count": 59,
      "metadata": {
        "colab": {
          "base_uri": "https://localhost:8080/"
        },
        "id": "Bq2RWZsnwBQi",
        "outputId": "b0fb656f-e296-4b71-cde3-0d19b345461a"
      },
      "outputs": [
        {
          "name": "stdout",
          "output_type": "stream",
          "text": [
            "Epoch 1/20\n",
            "75/75 [==============================] - 1s 6ms/step - loss: 0.0120 - mae: 0.0747 - val_loss: 0.0022 - val_mae: 0.0330\n",
            "Epoch 2/20\n",
            "75/75 [==============================] - 0s 3ms/step - loss: 0.0018 - mae: 0.0323 - val_loss: 0.0020 - val_mae: 0.0321\n",
            "Epoch 3/20\n",
            "75/75 [==============================] - 0s 3ms/step - loss: 0.0016 - mae: 0.0308 - val_loss: 0.0020 - val_mae: 0.0308\n",
            "Epoch 4/20\n",
            "75/75 [==============================] - 0s 3ms/step - loss: 0.0015 - mae: 0.0289 - val_loss: 0.0018 - val_mae: 0.0290\n",
            "Epoch 5/20\n",
            "75/75 [==============================] - 0s 3ms/step - loss: 0.0012 - mae: 0.0264 - val_loss: 0.0017 - val_mae: 0.0287\n",
            "Epoch 6/20\n",
            "75/75 [==============================] - 0s 3ms/step - loss: 0.0011 - mae: 0.0244 - val_loss: 0.0016 - val_mae: 0.0267\n",
            "Epoch 7/20\n",
            "75/75 [==============================] - 0s 3ms/step - loss: 9.1589e-04 - mae: 0.0224 - val_loss: 0.0015 - val_mae: 0.0261\n",
            "Epoch 8/20\n",
            "75/75 [==============================] - 0s 3ms/step - loss: 7.7582e-04 - mae: 0.0205 - val_loss: 0.0015 - val_mae: 0.0256\n",
            "Epoch 9/20\n",
            "75/75 [==============================] - 0s 3ms/step - loss: 6.5124e-04 - mae: 0.0185 - val_loss: 0.0015 - val_mae: 0.0261\n",
            "Epoch 10/20\n",
            "75/75 [==============================] - 0s 3ms/step - loss: 5.3948e-04 - mae: 0.0166 - val_loss: 0.0015 - val_mae: 0.0259\n",
            "Epoch 11/20\n",
            "75/75 [==============================] - 0s 3ms/step - loss: 4.6279e-04 - mae: 0.0151 - val_loss: 0.0015 - val_mae: 0.0261\n",
            "Epoch 12/20\n",
            "75/75 [==============================] - 0s 3ms/step - loss: 3.5281e-04 - mae: 0.0125 - val_loss: 0.0016 - val_mae: 0.0271\n",
            "Epoch 13/20\n",
            "75/75 [==============================] - 0s 3ms/step - loss: 2.9514e-04 - mae: 0.0111 - val_loss: 0.0015 - val_mae: 0.0259\n",
            "Epoch 14/20\n",
            "75/75 [==============================] - 0s 3ms/step - loss: 2.5243e-04 - mae: 0.0099 - val_loss: 0.0015 - val_mae: 0.0258\n",
            "Epoch 15/20\n",
            "75/75 [==============================] - 0s 3ms/step - loss: 2.1167e-04 - mae: 0.0086 - val_loss: 0.0015 - val_mae: 0.0259\n",
            "Epoch 16/20\n",
            "75/75 [==============================] - 0s 3ms/step - loss: 1.8223e-04 - mae: 0.0072 - val_loss: 0.0015 - val_mae: 0.0264\n",
            "Epoch 17/20\n",
            "75/75 [==============================] - 0s 3ms/step - loss: 1.5909e-04 - mae: 0.0061 - val_loss: 0.0015 - val_mae: 0.0258\n",
            "Epoch 18/20\n",
            "75/75 [==============================] - 0s 3ms/step - loss: 1.4590e-04 - mae: 0.0053 - val_loss: 0.0015 - val_mae: 0.0259\n",
            "Epoch 19/20\n",
            "75/75 [==============================] - 0s 3ms/step - loss: 1.4098e-04 - mae: 0.0050 - val_loss: 0.0015 - val_mae: 0.0258\n",
            "Epoch 20/20\n",
            "75/75 [==============================] - 0s 3ms/step - loss: 1.3537e-04 - mae: 0.0047 - val_loss: 0.0015 - val_mae: 0.0265\n"
          ]
        },
        {
          "data": {
            "text/plain": [
              "<keras.src.callbacks.History at 0x226b68d3730>"
            ]
          },
          "execution_count": 59,
          "metadata": {},
          "output_type": "execute_result"
        }
      ],
      "source": [
        "# model training\n",
        "X_train = [embeddings1, embeddings2]\n",
        "y_train = df['similarity_score'].values\n",
        "\n",
        "model.fit(X_train, y_train, epochs=20, validation_split=0.2)\n"
      ]
    },
    {
      "cell_type": "code",
      "execution_count": 60,
      "metadata": {},
      "outputs": [
        {
          "name": "stdout",
          "output_type": "stream",
          "text": [
            "INFO:tensorflow:Assets written to: similarity_model\\assets\n"
          ]
        },
        {
          "name": "stderr",
          "output_type": "stream",
          "text": [
            "INFO:tensorflow:Assets written to: similarity_model\\assets\n"
          ]
        }
      ],
      "source": [
        "# Saving the model for future use\n",
        "model.save('similarity_model')"
      ]
    },
    {
      "cell_type": "code",
      "execution_count": 61,
      "metadata": {},
      "outputs": [],
      "source": [
        "# Loading the model\n",
        "loaded_model = tf.keras.models.load_model('similarity_model')"
      ]
    },
    {
      "cell_type": "code",
      "execution_count": 62,
      "metadata": {
        "colab": {
          "base_uri": "https://localhost:8080/"
        },
        "id": "9hOYxJbcwFTM",
        "outputId": "a1073eb5-b412-44ce-e5d5-50bd190963df"
      },
      "outputs": [
        {
          "name": "stdout",
          "output_type": "stream",
          "text": [
            "1/1 [==============================] - 0s 66ms/step\n",
            "Similarity score: 0.25830793380737305\n",
            "Similarity score: 0.3\n"
          ]
        }
      ],
      "source": [
        "def predict_similarity(sentence1, sentence2,model):\n",
        "\n",
        "    embedding1 = embed([sentence1])[0].numpy()\n",
        "    embedding2 = embed([sentence2])[0].numpy()\n",
        "\n",
        "\n",
        "    embedding1 = np.reshape(embedding1, (1, -1))\n",
        "    embedding2 = np.reshape(embedding2, (1, -1))\n",
        "\n",
        "\n",
        "    similarity = model.predict([embedding1, embedding2])\n",
        "\n",
        "    return similarity[0][0]\n",
        "\n",
        "\n",
        "sentence1 = \"The weather is nice today\"\n",
        "sentence2 = \"Today, the weather is good\"\n",
        "\n",
        "\n",
        "similarity_score = predict_similarity(sentence1, sentence2,model)\n",
        "print(f\"Similarity score: {similarity_score}\")\n",
        "print(f\"Similarity score: {round(float(similarity_score), 1)}\")\n",
        "\n"
      ]
    }
  ],
  "metadata": {
    "colab": {
      "provenance": []
    },
    "kernelspec": {
      "display_name": "Python 3",
      "name": "python3"
    },
    "language_info": {
      "codemirror_mode": {
        "name": "ipython",
        "version": 3
      },
      "file_extension": ".py",
      "mimetype": "text/x-python",
      "name": "python",
      "nbconvert_exporter": "python",
      "pygments_lexer": "ipython3",
      "version": "3.10.12"
    }
  },
  "nbformat": 4,
  "nbformat_minor": 0
}
